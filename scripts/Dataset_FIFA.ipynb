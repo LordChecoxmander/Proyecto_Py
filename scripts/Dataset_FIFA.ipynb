{
 "cells": [
  {
   "cell_type": "markdown",
   "id": "d7713f68",
   "metadata": {},
   "source": [
    "Librerías necesarias"
   ]
  },
  {
   "cell_type": "code",
   "execution_count": null,
   "id": "0ae1249e",
   "metadata": {},
   "outputs": [],
   "source": [
    "import os\n",
    "import csv"
   ]
  },
  {
   "cell_type": "markdown",
   "id": "6cc4bffd",
   "metadata": {},
   "source": [
    "Recibe el dato de la columna potential y lo procesa devolviendo lo solicitado"
   ]
  },
  {
   "cell_type": "code",
   "execution_count": null,
   "id": "c04a31e4",
   "metadata": {},
   "outputs": [],
   "source": [
    "def change_potential(orig_pot) -> str:\n",
    "\n",
    "    match orig_pot:\n",
    "        case orig_pot if orig_pot in range(0,60):   #rango entre 0 y 59\n",
    "            return 'Regular'\n",
    "        case orig_pot if orig_pot in range(60,80):  #rango entre 60 y 79\n",
    "            return 'Bueno'\n",
    "        case orig_pot if orig_pot in range(80, 90):  #rango entre 80 y 89\n",
    "            return 'Muy Bueno'\n",
    "        case orig_pot if orig_pot >= 90:  # rango mayores a 90\n",
    "            return 'Sobresaliente'"
   ]
  },
  {
   "cell_type": "markdown",
   "id": "f9d8fb6e",
   "metadata": {},
   "source": [
    "Devuelve las posiciones en español"
   ]
  },
  {
   "cell_type": "code",
   "execution_count": null,
   "id": "c8401a0d",
   "metadata": {},
   "outputs": [],
   "source": [
    "def translation_word(word):\n",
    "    trans_dict = {\n",
    "        'GK': 'Portero',\n",
    "        'RWB': 'Carrilero Derecho',\n",
    "        'RB': 'Lateral Derecho',\n",
    "        'CB': 'Defensa Central',\n",
    "        'LB': 'Lateral Izquierdo',\n",
    "        'LWB': 'Carrilero Izquierdo',\n",
    "        'CDM': 'Medio Centro Defensivo',\n",
    "        'RM': 'Medio Derecho',\n",
    "        'CM': 'Medio Centro',\n",
    "        'LM': 'Medio Izquierdo',\n",
    "        'CAM': 'Medio Centro Ofensivo',\n",
    "        'RF': 'Segundo Delantero Derecho',\n",
    "        'CF': 'Media Punta',\n",
    "        'LF': 'Segundo Delantero Izquierdo',\n",
    "        'RW': 'Extremo Derecho',\n",
    "        'ST': 'Delantero Centro',\n",
    "        'LW': 'Extremo Izquierdo'\n",
    "    }\n",
    "    return trans_dict[word]"
   ]
  },
  {
   "cell_type": "markdown",
   "id": "22c6c43d",
   "metadata": {},
   "source": [
    "Recibe el dato de la columna Position y lo devuelve traducido al español"
   ]
  },
  {
   "cell_type": "code",
   "execution_count": null,
   "id": "448d649c",
   "metadata": {},
   "outputs": [],
   "source": [
    "def change_position(row):\n",
    "    list_row = []\n",
    "    for elem in row.split('|'):\n",
    "        list_row.append(translation_word(elem))\n",
    "    return '|'.join(list_row)"
   ]
  },
  {
   "cell_type": "markdown",
   "id": "259ad5e7",
   "metadata": {},
   "source": [
    "Crea el csv nuevo"
   ]
  },
  {
   "cell_type": "code",
   "execution_count": null,
   "id": "ef3fa666",
   "metadata": {},
   "outputs": [],
   "source": [
    "def creating_csv_fifa():\n",
    "    files_path = os.path.abspath(os.path.join(os.path.dirname(\"__file__\"), '..', 'data_sets'))\n",
    "    file_fifa_path = os.path.join(files_path, 'FIFA-21 Complete.csv')\n",
    "\n",
    "    with open(file_fifa_path, 'r', encoding='utf-8') as orig_csv:\n",
    "        reader_orig = csv.reader(orig_csv, delimiter=';')\n",
    "        next(reader_orig)\n",
    "\n",
    "        file_fifa_new = os.path.join(files_path, 'New-FIFA-21-Complete.csv')\n",
    "\n",
    "        with open(file_fifa_new, 'w', encoding='utf-8', newline='') as new_csv:\n",
    "            writer_new = csv.writer(new_csv, delimiter=',')\n",
    "\n",
    "            # creo el header de nuevo csv\n",
    "            writer_new.writerow(['Team', 'Nationality', 'Position', 'Age', 'Potential','Name'])\n",
    "\n",
    "            # recorro el csv base tomando las columnas que se piden\n",
    "            for row in reader_orig:\n",
    "                #imprimo fila en orden Team(8), Nationality(2), Position(3), Age(5), Potential(7), Name(1)\n",
    "                writer_new.writerow([row[8], row[2], change_position(row[3]), row[5], change_potential(int(row[7])), row[1]])"
   ]
  },
  {
   "cell_type": "code",
   "execution_count": null,
   "id": "868525d4",
   "metadata": {},
   "outputs": [],
   "source": [
    "# Llamado para creación del csv\n",
    "creating_csv_fifa()"
   ]
  }
 ],
 "metadata": {
  "kernelspec": {
   "display_name": "Python 3 (ipykernel)",
   "language": "python",
   "name": "python3"
  },
  "language_info": {
   "codemirror_mode": {
    "name": "ipython",
    "version": 3
   },
   "file_extension": ".py",
   "mimetype": "text/x-python",
   "name": "python",
   "nbconvert_exporter": "python",
   "pygments_lexer": "ipython3",
   "version": "3.10.4"
  }
 },
 "nbformat": 4,
 "nbformat_minor": 5
}
