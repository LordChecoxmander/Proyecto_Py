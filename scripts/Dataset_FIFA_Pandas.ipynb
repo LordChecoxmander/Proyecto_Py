{
 "cells": [
  {
   "cell_type": "markdown",
   "id": "83343333",
   "metadata": {},
   "source": [
    "# Generacion de un csv con un datraset de Fifa usando pandas"
   ]
  },
  {
   "cell_type": "markdown",
   "id": "d7713f68",
   "metadata": {},
   "source": [
    "Librerías necesarias"
   ]
  },
  {
   "cell_type": "code",
   "execution_count": null,
   "id": "0ae1249e",
   "metadata": {},
   "outputs": [],
   "source": [
    "import pandas as pd\n",
    "import os"
   ]
  },
  {
   "cell_type": "markdown",
   "id": "6cc4bffd",
   "metadata": {},
   "source": [
    "Recibe el dato de la columna potential y lo procesa devolviendo lo solicitado"
   ]
  },
  {
   "cell_type": "code",
   "execution_count": null,
   "id": "c04a31e4",
   "metadata": {},
   "outputs": [],
   "source": [
    "def change_potential(orig_pot) -> str:\n",
    "    \"\"\"Función que convierte un número recibido en su equivalente en formato string según una escala dada\"\"\"\n",
    "\n",
    "    match orig_pot:\n",
    "        case orig_pot if orig_pot in range(0,60):   #rango entre 0 y 59\n",
    "            return 'Regular'\n",
    "        case orig_pot if orig_pot in range(60,80):  #rango entre 60 y 79\n",
    "            return 'Bueno'\n",
    "        case orig_pot if orig_pot in range(80, 90):  #rango entre 80 y 89\n",
    "            return 'Muy Bueno'\n",
    "        case orig_pot if orig_pot >= 90:  # rango mayores a 90\n",
    "            return 'Sobresaliente'"
   ]
  },
  {
   "cell_type": "markdown",
   "id": "f9d8fb6e",
   "metadata": {},
   "source": [
    "Devuelve las posiciones en español"
   ]
  },
  {
   "cell_type": "code",
   "execution_count": null,
   "id": "c8401a0d",
   "metadata": {},
   "outputs": [],
   "source": [
    "def translation_word(word) -> str:\n",
    "    \"\"\"Función que recibe un acrónimo en inglés y devuelve su traducción en español\"\"\"\n",
    "    \n",
    "    trans_dict = {\n",
    "        'GK': 'Portero',\n",
    "        'RWB': 'Carrilero Derecho',\n",
    "        'RB': 'Lateral Derecho',\n",
    "        'CB': 'Defensa Central',\n",
    "        'LB': 'Lateral Izquierdo',\n",
    "        'LWB': 'Carrilero Izquierdo',\n",
    "        'CDM': 'Medio Centro Defensivo',\n",
    "        'RM': 'Medio Derecho',\n",
    "        'CM': 'Medio Centro',\n",
    "        'LM': 'Medio Izquierdo',\n",
    "        'CAM': 'Medio Centro Ofensivo',\n",
    "        'RF': 'Segundo Delantero Derecho',\n",
    "        'CF': 'Media Punta',\n",
    "        'LF': 'Segundo Delantero Izquierdo',\n",
    "        'RW': 'Extremo Derecho',\n",
    "        'ST': 'Delantero Centro',\n",
    "        'LW': 'Extremo Izquierdo'\n",
    "    }\n",
    "    return trans_dict[word]"
   ]
  },
  {
   "cell_type": "markdown",
   "id": "22c6c43d",
   "metadata": {},
   "source": [
    "Recibe el dato de la columna Position y lo devuelve traducido al español"
   ]
  },
  {
   "cell_type": "code",
   "execution_count": null,
   "id": "448d649c",
   "metadata": {},
   "outputs": [],
   "source": [
    "def change_position(row) -> str:\n",
    "    \"\"\"Función que realiza una modificación en la columna position del archivo csv\"\"\"\n",
    "    list_row = []\n",
    "    for elem in row.split('|'):\n",
    "        list_row.append(translation_word(elem))\n",
    "    return '|'.join(list_row)"
   ]
  },
  {
   "cell_type": "markdown",
   "id": "259ad5e7",
   "metadata": {},
   "source": [
    "Crea el csv nuevo"
   ]
  },
  {
   "cell_type": "code",
   "execution_count": null,
   "id": "ef3fa666",
   "metadata": {},
   "outputs": [],
   "source": [
    "def creating_csv_fifa():\n",
    "    \n",
    "    \"\"\"Función que crea un archivo csv a partir de otro archivo csv usando pandas\"\"\"\n",
    "\n",
    "    files_path = os.path.abspath(os.path.join(os.path.dirname(\"__file__\"), '..', 'data_sets'))\n",
    "    file_fifa_path = os.path.join(files_path, 'FIFA-21 Complete.csv')\n",
    "    file_fifa_nuevo_path = os.path.join(files_path, 'New-FIFA-21-Complete.csv')\n",
    "\n",
    "    data_set = pd.read_csv(file_fifa_path, encoding='utf-8', sep=';',\n",
    "                           usecols=('team', 'nationality', 'position', 'age', 'potential', 'name'))\n",
    "\n",
    "    data_set['position'] = data_set['position'].apply(change_position)\n",
    "    data_set['potential'] = data_set['potential'].apply(change_potential)\n",
    "\n",
    "    data_set.reindex(columns=['team', 'nationality', 'position', 'age', 'potential', 'name'])\n",
    "    data_set.columns = ['Team', 'Nationality', 'Position', 'Age', 'Potential', 'Name']\n",
    "\n",
    "    data_set.to_csv(file_fifa_nuevo_path, index=False)"
   ]
  },
  {
   "cell_type": "code",
   "execution_count": null,
   "id": "868525d4",
   "metadata": {},
   "outputs": [],
   "source": [
    "# Llamado para creación del csv\n",
    "creating_csv_fifa()"
   ]
  }
 ],
 "metadata": {
  "kernelspec": {
   "display_name": "Python 3 (ipykernel)",
   "language": "python",
   "name": "python3"
  },
  "language_info": {
   "codemirror_mode": {
    "name": "ipython",
    "version": 3
   },
   "file_extension": ".py",
   "mimetype": "text/x-python",
   "name": "python",
   "nbconvert_exporter": "python",
   "pygments_lexer": "ipython3",
   "version": "3.10.0"
  }
 },
 "nbformat": 4,
 "nbformat_minor": 5
}
