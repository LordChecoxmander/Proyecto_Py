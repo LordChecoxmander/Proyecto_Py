{
 "cells": [
  {
   "cell_type": "markdown",
   "metadata": {},
   "source": [
    "# Generacion de un csv con un datraset de Volcanes usando pandas"
   ]
  },
  {
   "cell_type": "code",
   "execution_count": 2,
   "metadata": {},
   "outputs": [],
   "source": [
    "import os\n",
    "import pandas as pd"
   ]
  },
  {
   "cell_type": "code",
   "execution_count": 3,
   "metadata": {},
   "outputs": [],
   "source": [
    "def translation_word(word):\n",
    "\t\n",
    "\t\"\"\" diccionario con traduccion de palabras \"\"\"\n",
    "\n",
    "\ttrans_dict ={\n",
    "\t\"Caldera\": \"Caldera\",\n",
    "\t\"Lava dome\": \"Domo de lava\",\n",
    "\t\"Complex volcano\": \"Volcán complejo\",\n",
    "\t\"Stratovolcano\": \"Estratovolcán\",\n",
    "\t\"Shield volcano\": \"Volcán en escudo\",\n",
    "\t\"Subglacial volcano\":\"Volcán subglacial\",\n",
    "\t\"Pyroclastic cone\":\"Cono piroclástico\",\n",
    "\t\"Submarine volcano\":\"volcán submarino\",\n",
    "\t\"Pyroclastic shield\":\"Escudo piroclástico\",\n",
    "\t\"Tuff cone\":\"Cono de toba\",\n",
    "\t\"Crater rows\":\"Filas de cráteres\",\n",
    "\t\"Fissure vent\":\"Respiradero de fisura\",\n",
    "\t\"Lava cone\":\"Cono de lava\",\n",
    "\t\"Maar\":\"Maar\",\n",
    "\t\"Compound volcano\":\"Volcán compuesto\",\n",
    "\t\"Cinder cone\":\"Cono de ceniza\",\n",
    "\t\"Pumice cone\":\"Cono de piedra pómez\",\n",
    "\t\"Mud volcano\":\"Volcán de lodo\",\n",
    "\t\"Volcanic field\":\"Campo volcánico\",\n",
    "\t\"Submarine volcanoes\":\"Volcanes submarinos\"\n",
    "\t\t}\n",
    "    #Retorno el valor de la Key que recibo.\n",
    "\treturn trans_dict[word]"
   ]
  },
  {
   "cell_type": "code",
   "execution_count": 4,
   "metadata": {},
   "outputs": [],
   "source": [
    "def flag_check(flag):\n",
    "    \"\"\" Si la flag que recibo contiene un tipo de valor devuelvo True en caso contrario devuelvo False\"\"\" \n",
    "    return flag != ''"
   ]
  },
  {
   "cell_type": "code",
   "execution_count": 5,
   "metadata": {},
   "outputs": [],
   "source": [
    "def name_and_country(name, country):\n",
    "    \"\"\" Simplemente devuelvo un String con formato. \"\"\" \n",
    "    return (f'{name} ({country})')"
   ]
  },
  {
   "cell_type": "code",
   "execution_count": 6,
   "metadata": {},
   "outputs": [],
   "source": [
    "def creating_csv_pandas():\n",
    "    \"\"\"Función que crea un archivo csv a partir de otro archivo csv usando pandas\"\"\"\n",
    "    # Abriendo el CSV base\n",
    "    files_path = os.path.abspath(os.path.join(os.path.dirname(\"__file__\"), '..', 'data_sets'))\n",
    "    file_volcan_path = os.path.join(files_path, 'significant-volcanic-eruption-database.csv')\n",
    "\n",
    "    #creo el dataframe con el csv base\n",
    "    df_volcanes = pd.read_csv(file_volcan_path, sep=';')\n",
    "\n",
    "    # traduzco los nombres de los volcanes\n",
    "    df_volcanes['Volcano Type'] = df_volcanes['Volcano Type'].apply(translation_word)\n",
    "\n",
    "    # agrupo las columnas de nombre y pais en una sola\n",
    "    df_volcanes['nombre_y_pais'] = df_volcanes['Volcano Name'] + ' (' + df_volcanes['Country'] + ')'\n",
    "\n",
    "    df_volcanes.to_csv(os.path.join(files_path, 'New-significant-volcanic-eruption-database_pandas.csv'), index=False, columns=['Year','Volcanic Explosivity Index','Volcano Type', 'Flag Tsunami', 'Flag Earthquake', 'nombre_y_pais'])"
   ]
  },
  {
   "cell_type": "code",
   "execution_count": 7,
   "metadata": {},
   "outputs": [],
   "source": [
    "creating_csv_pandas()"
   ]
  },
  {
   "cell_type": "code",
   "execution_count": null,
   "metadata": {},
   "outputs": [],
   "source": []
  }
 ],
 "metadata": {
  "kernelspec": {
   "display_name": "Python 3.10.2 ('.env': venv)",
   "language": "python",
   "name": "python3"
  },
  "language_info": {
   "codemirror_mode": {
    "name": "ipython",
    "version": 3
   },
   "file_extension": ".py",
   "mimetype": "text/x-python",
   "name": "python",
   "nbconvert_exporter": "python",
   "pygments_lexer": "ipython3",
   "version": "3.10.2"
  },
  "orig_nbformat": 4,
  "vscode": {
   "interpreter": {
    "hash": "7905dc03008d3af5b188bb6d805f662f7b3fab4d9a8d33d0ae8dd071d938bfa7"
   }
  }
 },
 "nbformat": 4,
 "nbformat_minor": 2
}
