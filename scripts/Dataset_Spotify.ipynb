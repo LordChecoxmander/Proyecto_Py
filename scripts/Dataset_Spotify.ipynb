{
 "cells": [
  {
   "cell_type": "markdown",
   "id": "5c3279c5",
   "metadata": {},
   "source": [
    "Librerías necesarias"
   ]
  },
  {
   "cell_type": "code",
   "execution_count": 1,
   "id": "6560053a",
   "metadata": {},
   "outputs": [],
   "source": [
    "import os\n",
    "import csv"
   ]
  },
  {
   "cell_type": "markdown",
   "id": "54522ec5",
   "metadata": {},
   "source": [
    "Realiza el Title case solicitado"
   ]
  },
  {
   "cell_type": "code",
   "execution_count": 2,
   "id": "0996060e",
   "metadata": {},
   "outputs": [],
   "source": [
    "def cambio_top_genere(row) -> str:\n",
    "    if (row == 'k-pop'):\n",
    "        return 'K-Pop'\n",
    "    else:\n",
    "        list_row = []\n",
    "        for elem in row.split(' '):\n",
    "            if elem in ['edm', 'dfw', 'uk', 'r&b', 'lgbtq+']:\n",
    "                list_row.append(elem.upper())\n",
    "            else:\n",
    "                list_row.append(elem.title())\n",
    "        return ' '.join(list_row)"
   ]
  },
  {
   "cell_type": "markdown",
   "id": "ed07b0a5",
   "metadata": {},
   "source": [
    "Crea el csv nuevo"
   ]
  },
  {
   "cell_type": "code",
   "execution_count": 5,
   "id": "d10b562b",
   "metadata": {},
   "outputs": [],
   "source": [
    "def creating_csv_spotify():\n",
    "    files_path = os.path.abspath(os.path.join(os.path.dirname(\"__file__\"), '..', 'data_sets'))\n",
    "    file_spoty_path = os.path.join(files_path, 'Spotify 2010 - 2019 Top 100.csv')\n",
    "\n",
    "    with open(file_spoty_path, 'r', encoding='utf-8') as orig_csv:\n",
    "        reader_orig = csv.reader(orig_csv, delimiter=',')\n",
    "        header_orig = next(reader_orig)\n",
    "\n",
    "        file_spoty_new = os.path.join(files_path, 'New-Spotify-2010-2019-Top-100.csv')\n",
    "\n",
    "        with open(file_spoty_new, 'w', encoding='utf-8', newline='') as new_csv:\n",
    "            writer_new = csv.writer(new_csv, delimiter=',')\n",
    "\n",
    "            # creo el header de nuevo csv\n",
    "            writer_new.writerow(['Top Genre', 'Artist Type', 'Year Released', 'Top Year', 'BPM', 'Artist'])\n",
    "\n",
    "            # recorro el csv base tomando las columnas que se piden\n",
    "            for row in reader_orig:\n",
    "                writer_new.writerow([cambio_top_genere(row[2]), row[16], row[3], row[15], row[5], row[1]])\n"
   ]
  },
  {
   "cell_type": "code",
   "execution_count": 6,
   "id": "6c7cd272",
   "metadata": {},
   "outputs": [],
   "source": [
    "# Llamado para creación del csv\n",
    "creating_csv_spotify()\n"
   ]
  },
  {
   "cell_type": "code",
   "execution_count": null,
   "id": "235b4b27",
   "metadata": {},
   "outputs": [],
   "source": []
  }
 ],
 "metadata": {
  "kernelspec": {
   "display_name": "Python 3 (ipykernel)",
   "language": "python",
   "name": "python3"
  },
  "language_info": {
   "codemirror_mode": {
    "name": "ipython",
    "version": 3
   },
   "file_extension": ".py",
   "mimetype": "text/x-python",
   "name": "python",
   "nbconvert_exporter": "python",
   "pygments_lexer": "ipython3",
   "version": "3.10.4"
  }
 },
 "nbformat": 4,
 "nbformat_minor": 5
}
