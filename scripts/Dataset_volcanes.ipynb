{
 "cells": [
  {
   "cell_type": "markdown",
   "id": "713a18cf",
   "metadata": {},
   "source": [
    "## Librerias a utilizar"
   ]
  },
  {
   "cell_type": "code",
   "execution_count": 2,
   "id": "78c7294d",
   "metadata": {},
   "outputs": [],
   "source": [
    "import csv\n",
    "import os"
   ]
  },
  {
   "cell_type": "code",
   "execution_count": 3,
   "id": "e1495d02",
   "metadata": {},
   "outputs": [],
   "source": [
    "def translation_word(word):\n",
    "    trans_dict ={\n",
    "\t\"Caldera\": \"Caldera\",\n",
    "\t\"Lava dome\": \"Domo de lava\",\n",
    "\t\"Complex volcano\": \"Volcán complejo\",\n",
    "\t\"Stratovolcano\": \"Estratovolcán\",\n",
    "\t\"Shield volcano\": \"Volcán en escudo\",\n",
    "\t\"Subglacial volcano\":\"Volcán subglacial\",\n",
    "\t\"Pyroclastic cone\":\"Cono piroclástico\",\n",
    "\t\"Submarine volcano\":\"volcán submarino\",\n",
    "\t\"Pyroclastic shield\":\"Escudo piroclástico\",\n",
    "\t\"Tuff cone\":\"Cono de toba\",\n",
    "\t\"Crater rows\":\"Filas de cráteres\",\n",
    "\t\"Fissure vent\":\"Respiradero de fisura\",\n",
    "\t\"Lava cone\":\"Cono de lava\",\n",
    "\t\"Maar\":\"Maar\",\n",
    "\t\"Compound volcano\":\"Volcán compuesto\",\n",
    "\t\"Cinder cone\":\"Cono de ceniza\",\n",
    "\t\"Pumice cone\":\"Cono de piedra pómez\",\n",
    "\t\"Mud volcano\":\"Volcán de lodo\",\n",
    "\t\"Volcanic field\":\"Campo volcánico\",\n",
    "\t\"Submarine volcanoes\":\"Volcanes submarinos\"\n",
    "}\n",
    "    #Retorno el valor de la Key que recibo.\n",
    "    return trans_dict[word]"
   ]
  },
  {
   "cell_type": "code",
   "execution_count": 4,
   "id": "e0fb4958",
   "metadata": {},
   "outputs": [],
   "source": [
    "def flag_check(flag):\n",
    "    # Si la flag que recibo contiene un tipo de valor devuelvo True en caso contrario devuelvo False\n",
    "    return flag != ''"
   ]
  },
  {
   "cell_type": "code",
   "execution_count": 5,
   "id": "4f512781",
   "metadata": {},
   "outputs": [],
   "source": [
    "def name_and_country(name, country):\n",
    "    # Simplemente devuelvo un String con formato.\n",
    "    return (f'{name} ({country})')"
   ]
  },
  {
   "cell_type": "code",
   "execution_count": 6,
   "id": "85066c91",
   "metadata": {},
   "outputs": [],
   "source": [
    "def creating_csv():\n",
    "    # Abriendo el CSV base\n",
    "    files_path = os.path.abspath(os.path.join(os.path.dirname(\"__file__\"), '..', 'data_sets'))\n",
    "    file_volcan_path = os.path.join(files_path, 'significant-volcanic-eruption-database.csv')\n",
    "    with open(file_volcan_path, 'r') as old_csv:\n",
    "        reader = csv.reader(old_csv, delimiter=';')\n",
    "        # Salteo el Header\n",
    "        next(reader)\n",
    "        \n",
    "        # Creando el CSV nuevo\n",
    "        file_volcanes_new = os.path.join(files_path, 'New-significant-volcanic-eruption-database.csv')\n",
    "        with open (file_volcanes_new, 'w',encoding='utf-8', newline='') as new_csv:\n",
    "            writer = csv.writer(new_csv, delimiter=',')\n",
    "\n",
    "            # Genero el Header del nuevo CSV\n",
    "            writer.writerow(['Año','Indice de explosividad volcánica','Tipo de volcán', 'Flag Tsunami', 'Flag Terremoto', 'Nombre y pais'])\n",
    "\n",
    "            # Recorro el CSV base\n",
    "            for row in reader:\n",
    "  \n",
    "                # Genero las celdas nuevas para el csv con el formato espesificado\n",
    "                writer.writerow([row[0],row[11],translation_word(row[9]),flag_check(row[3]),flag_check(row[4]),name_and_country(row[5],row[6])])"
   ]
  },
  {
   "cell_type": "code",
   "execution_count": 7,
   "id": "7eaeb030",
   "metadata": {},
   "outputs": [],
   "source": [
    "# Llamo a la creacion del csv\n",
    "creating_csv()"
   ]
  },
  {
   "cell_type": "code",
   "execution_count": null,
   "id": "020b611a",
   "metadata": {},
   "outputs": [],
   "source": []
  }
 ],
 "metadata": {
  "interpreter": {
   "hash": "f78edfc400fbdbef7a5ef494dbf4fffa2397ebcaefe5a059195649e340a2f050"
  },
  "kernelspec": {
   "display_name": "Python 3 (ipykernel)",
   "language": "python",
   "name": "python3"
  },
  "language_info": {
   "codemirror_mode": {
    "name": "ipython",
    "version": 3
   },
   "file_extension": ".py",
   "mimetype": "text/x-python",
   "name": "python",
   "nbconvert_exporter": "python",
   "pygments_lexer": "ipython3",
   "version": "3.10.4"
  }
 },
 "nbformat": 4,
 "nbformat_minor": 5
}
