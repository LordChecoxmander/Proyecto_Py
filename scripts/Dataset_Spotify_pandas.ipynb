{
 "cells": [
  {
   "cell_type": "markdown",
   "metadata": {},
   "source": [
    "# Generacion de un csv con un datraset de Spotify usando pandas"
   ]
  },
  {
   "cell_type": "code",
   "execution_count": 1,
   "metadata": {},
   "outputs": [],
   "source": [
    "import os\n",
    "import pandas as pd"
   ]
  },
  {
   "cell_type": "code",
   "execution_count": 2,
   "metadata": {},
   "outputs": [],
   "source": [
    "def cambio_top_genere(row) -> str:\n",
    "    \"\"\" funcion que cambia a mayusculas algunas palabras \"\"\"\n",
    "    if (row == 'k-pop'):\n",
    "        return 'K-Pop'\n",
    "    else:\n",
    "        list_row = []\n",
    "        for elem in str(row).split(' '):\n",
    "            if elem in ['edm', 'dfw', 'uk', 'r&b', 'lgbtq+']:\n",
    "                list_row.append(elem.upper())\n",
    "            else:\n",
    "                list_row.append(elem.title())\n",
    "        return ' '.join(list_row)"
   ]
  },
  {
   "cell_type": "code",
   "execution_count": 3,
   "metadata": {},
   "outputs": [],
   "source": [
    "def creating_csv_spotify_pandas():\n",
    "    \"\"\"Función que crea un archivo csv a partir de otro archivo csv usando pandas\"\"\"\n",
    "    files_path = os.path.abspath(os.path.join(os.path.dirname(\"__file__\"), '..', 'data_sets'))\n",
    "    file_spoty_path = os.path.join(files_path, 'Spotify 2010 - 2019 Top 100.csv')\n",
    "\n",
    "    df_spoty = pd.read_csv(file_spoty_path, sep=',')\n",
    "\n",
    "    df_spoty['top genre'] = df_spoty['top genre'].apply(cambio_top_genere)\n",
    "    \n",
    "    df_spoty.to_csv(os.path.join(files_path, 'New-Spotify-2010-2019-Top-100_pandas.csv'), sep=',', index=False , columns=['top genre', 'artist type', 'year released', 'top year', 'bpm', 'artist'])\n"
   ]
  },
  {
   "cell_type": "code",
   "execution_count": 4,
   "metadata": {},
   "outputs": [],
   "source": [
    "#Creación del csv con pandas\n",
    "creating_csv_spotify_pandas()"
   ]
  },
  {
   "cell_type": "code",
   "execution_count": null,
   "metadata": {},
   "outputs": [],
   "source": []
  }
 ],
 "metadata": {
  "kernelspec": {
   "display_name": "Python 3.10.5 ('grupo20')",
   "language": "python",
   "name": "python3"
  },
  "language_info": {
   "codemirror_mode": {
    "name": "ipython",
    "version": 3
   },
   "file_extension": ".py",
   "mimetype": "text/x-python",
   "name": "python",
   "nbconvert_exporter": "python",
   "pygments_lexer": "ipython3",
   "version": "3.10.5"
  },
  "orig_nbformat": 4,
  "vscode": {
   "interpreter": {
    "hash": "0fa4d99e435b5f2fe46ae23fd5ebebffca7fc9560893652d2d75dd1854ce3907"
   }
  }
 },
 "nbformat": 4,
 "nbformat_minor": 2
}
