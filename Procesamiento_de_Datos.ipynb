{
 "cells": [
  {
   "cell_type": "code",
   "execution_count": 1,
   "id": "e9f80b82",
   "metadata": {},
   "outputs": [],
   "source": [
    "import pandas as pd\n",
    "import matplotlib.pyplot as plt\n",
    "import os"
   ]
  },
  {
   "cell_type": "code",
   "execution_count": 2,
   "id": "20975a14",
   "metadata": {},
   "outputs": [],
   "source": [
    "car_path = os.path.abspath(os.path.join(os.path.dirname(\"__file__\"),'..', 'users'))\n",
    "file_path = os.path.join(car_path, 'registro_partidas.csv')\n",
    "datos = pd.read_csv(file_path)"
   ]
  },
  {
   "cell_type": "code",
   "execution_count": 3,
   "id": "e0ff081a",
   "metadata": {},
   "outputs": [],
   "source": [
    "def level_graphic():\n",
    "    \"\"\" Porcentaje de partidas por nivel. \"\"\"\n",
    "    \n",
    "    plt.clf()\n",
    "\n",
    "    facil = datos[(datos['estado'] == 'finalizada') & (datos['nivel'] == 'Facil')]['nivel'].count()\n",
    "    normal = datos[(datos['estado'] == 'finalizada') & (datos['nivel'] == 'Normal')]['nivel'].count()\n",
    "    dificil = datos[(datos['estado'] == 'finalizada') & (datos['nivel'] == 'Dificil')]['nivel'].count()\n",
    "    \n",
    "    data_dibujo = [facil, normal, dificil]\n",
    "    etiquetas = ['Facil', 'Normal', 'Dificil']\n",
    "    plt.pie(data_dibujo, labels=etiquetas, autopct='%1.1f%%', shadow=True, startangle=90, labeldistance=1.1)\n",
    "    plt.legend(etiquetas)\n",
    "    plt.title('Porcentaje de partidas finalizadas por dificultad')\n",
    "    plt.show()"
   ]
  },
  {
   "cell_type": "code",
   "execution_count": 4,
   "id": "37c35dc4",
   "metadata": {},
   "outputs": [],
   "source": [
    "def partidas_estado():\n",
    "    \"\"\"Gráfico que muestre el porcentaje de partidas por estado (fin, cancelada, error, timeout).\n",
    "        También debe tener en cuenta las partidas que se terminaron inesperadamente o de forma repentina\n",
    "        (partidas sin evento de fin)\"\"\"\n",
    "\n",
    "    fin = datos[(datos['estado']) == 'finalizada']['estado'].count()\n",
    "    #cierre por falla -> error\n",
    "    #col_estado = datos.loc['estado']\n",
    "    #cant_error =\n",
    "\n",
    "    error = datos[(datos['evento']) == 'error']['estado'].count()\n",
    "    timeout = datos[(datos['estado']) == 'timeout']['estado'].count()\n",
    "    cancelada = datos[(datos['estado']) == 'cancelada']['estado'].count()\n",
    "\n",
    "    data_graf = [fin, error, timeout, cancelada]\n",
    "    etiquetas = ['fin', 'error', 'timeout', 'cancelada']\n",
    "    plt.pie(data_graf, labels=etiquetas, autopct='%1.1f%%', shadow=True, startangle=90, labeldistance=1.1)\n",
    "    plt.legend(etiquetas)\n",
    "    plt.title('Porcentaje de partidas por estado')\n",
    "    plt.show()"
   ]
  },
  {
   "cell_type": "code",
   "execution_count": 5,
   "id": "c533e8ca",
   "metadata": {},
   "outputs": [],
   "source": [
    "def porcentaje_finalizado_genero():\n",
    "    \"\"\"Gráfico que muestre el porcentaje de partidas finalizadas por género\"\"\"\n",
    "    \n",
    "\n",
    "    plt.clf()\n",
    "\n",
    "\n",
    "    masculino = datos[(datos['estado'] == 'finalizada') & (datos['genero'] == 'Masculino')]['genero'].count()\n",
    "    femenino = datos[(datos['estado'] == 'finalizada') & (datos['genero'] == 'Femenino')]['genero'].count()\n",
    "    otro = datos[(datos['estado'] == 'finalizada') & (datos['genero'] == 'Otro')]['genero'].count()\n",
    "\n",
    "\n",
    "    data_dibujo = [masculino, femenino, otro]\n",
    "    etiquetas = ['Masculino', 'Femenino', 'Otro']\n",
    "\n",
    "\n",
    "    plt.pie(data_dibujo, labels=etiquetas, autopct='%1.1f%%', shadow=True, startangle=90, labeldistance=1.1)\n",
    "    plt.legend(etiquetas)\n",
    "    plt.title('Porcentaje de partidas finalizadas por género')\n",
    "    plt.show()"
   ]
  },
  {
   "cell_type": "code",
   "execution_count": 6,
   "id": "60b0d1e8",
   "metadata": {},
   "outputs": [],
   "source": [
    "def cant_errores():\n",
    "    \"\"\"Cantidadad de errores por usuarie\"\"\"\n",
    "    usuarios = datos['usuarie'].unique()\n",
    "    cant_errores = [datos[(datos['usuarie'] == usuario) & (datos['estado'] == 'error')]['usuarie'].count() for usuario in usuarios]\n",
    "    # for usuario in usuarios:\n",
    "       # cant_errores.append(datos[(datos['usuarie'] == usuario) & (datos['estado'] == 'error')]['usuarie'].count())\n",
    "    plt.bar(usuarios, cant_errores)\n",
    "    plt.title('Cantidad de errores por usuarie')\n",
    "    plt.show()"
   ]
  },
  {
   "cell_type": "code",
   "execution_count": 7,
   "id": "7b5e3d6c",
   "metadata": {},
   "outputs": [],
   "source": [
    "def cant_timeout():\n",
    "    \"\"\"Cantidad de tarjetas para las que el usuarie no dio respuesta (timeout)\"\"\"\n",
    "    usuarios = datos['usuarie'].unique()\n",
    "    cant_timeout = [datos[(datos['usuarie'] == usuario) & (datos['estado'] == 'timeout')]['usuarie'].count() for usuario in usuarios]\n",
    "    plt.bar(usuarios, cant_timeout)\n",
    "    plt.title('Cantidad de timeout por usuarie')\n",
    "    plt.show()"
   ]
  },
  {
   "cell_type": "code",
   "execution_count": 8,
   "id": "aa36110b",
   "metadata": {},
   "outputs": [],
   "source": [
    "def porcentaje_por_usuario():\n",
    "    \"\"\"Porcentaje de aciertos por usuarie.\"\"\"\n",
    "    usuarios = datos['usuarie'].unique()\n",
    "    #cantidad de intentos por usuario\n",
    "    cant_intento = [datos[(datos['usuarie'] == usuario) & (datos['evento'] == 'intento')]['usuarie'].count() for usuario in usuarios]\n",
    "    #cantidad de ok por usuario\n",
    "    cant_ok = [datos[(datos['usuarie'] == usuario) & (datos['estado'] == 'ok')]['usuarie'].count() for usuario in usuarios]\n",
    "\n",
    "    #porcentaje de ok por usuario\n",
    "    porcentaje_ok = [cant_ok[i]*100/cant_intento[i] for i in range(len(cant_intento))]\n",
    "\n",
    "    plt.bar(usuarios, porcentaje_ok)\n",
    "    plt.title('Porcentaje de aciertos por usuarie.')\n",
    "    plt.show()"
   ]
  },
  {
   "cell_type": "code",
   "execution_count": 9,
   "id": "354be7bd",
   "metadata": {},
   "outputs": [],
   "source": [
    "def tiempo_partida():\n",
    "    \"\"\"Duración total de la partida (desde que el usuarie empieza a jugar hasta que presiona\n",
    "        salir o pasan las N rondas definidas para el nivel de dificultad actual).\"\"\"\n",
    "\n",
    "    df = datos[['timestamp', 'id', 'evento']]\n",
    "    values = ['inicio_partida', 'fin']\n",
    "    \n",
    "    #arma un DF eliminando las filas que no son inicio_partida ni fin\n",
    "    df = df[df['evento'].isin(values)]\n",
    "    \n",
    "    #elimina los inicio_partida repetidos, es decir, descartamos las partidas finalizadas por errores y nos quedamos sólo con\n",
    "    #las finalizadas correctamente  y reseteo los indices\n",
    "    df_ev = df['evento']\n",
    "    indices_drop = df_ev[df_ev == df_ev.shift(-1)]\n",
    "    \n",
    "    df = df.drop(indices_drop.index).reset_index(drop=True)\n",
    "    \n",
    "    #hago la diferencia entre una fila y la anterior para obtener los tiempos\n",
    "    df['timestamp'] = df['timestamp'].diff()\n",
    "    \n",
    "    #me quedo con las columnas que me interesan\n",
    "    result = df[['id', 'timestamp']]\n",
    "    \n",
    "    #elimino las filas que muestran el tiempo entre el fin de una partida y el comienzo de otra\n",
    "    result = result.drop(result.index[result.index % 2 == 0])\n",
    "    \n",
    "    #renombro las columnas para claridad\n",
    "    result.rename(columns={'id': 'id_partida', 'timestamp': 'duracion_partida'}, inplace=True)\n",
    "    result = result.set_index('id_partida')\n",
    "\n",
    "    #print(result)\n",
    "    return result"
   ]
  },
  {
   "cell_type": "code",
   "execution_count": 10,
   "id": "b07c03d7",
   "metadata": {},
   "outputs": [],
   "source": [
    "def promedio_tiempo_partida():\n",
    "    \"\"\"Promedio de tiempo de partida general\"\"\"\n",
    "    \n",
    "    df = tiempo_partida()\n",
    "    promedio = df.mean()\n",
    "    print(promedio) #falta formatear este print"
   ]
  },
  {
   "cell_type": "code",
   "execution_count": 11,
   "id": "d368bd2b",
   "metadata": {},
   "outputs": [],
   "source": [
    "def grafico_total():\n",
    "    \"\"\"Grafico de lineas con todas las duraciones totales de las partidas finalizadas\"\"\"\n",
    "    algo = [partida for partida in datos[(datos['estado'] == 'finalizada')]['tiempo-partida']]\n",
    "    plt.plot(algo)\n",
    "    plt.title('Duración total de las partidas finalizadas')\n",
    "    plt.show()"
   ]
  },
  {
   "cell_type": "code",
   "execution_count": 12,
   "id": "dfbb4479",
   "metadata": {},
   "outputs": [],
   "source": [
    "def top_palabras():\n",
    "    \"\"\"Top 10 de palabras que se encuentran primero de todas las partidas.\"\"\"\n",
    "\n",
    "    top = datos['respuesta'].value_counts()\n",
    "    del(top['-'])\n",
    "    top_10 = top[:10]\n",
    "\n",
    "    \n",
    "    \n",
    "    top_10.plot(kind='bar')\n",
    "    plt.title ('top 10 palabras')\n",
    "    plt.ylabel('cantidad de repaticiones')\n",
    "    plt.xlabel('palabras')\n",
    "    fig = plt.gcf()\n",
    "    fig.set_size_inches(11, 4)\n",
    "    \n",
    "    plt.show()"
   ]
  },
  {
   "cell_type": "code",
   "execution_count": 3,
   "id": "c72c407a",
   "metadata": {},
   "outputs": [],
   "source": [
    "def exitosa_mas_rapida():\n",
    "    \"\"\" Tiempo de la respuesta exitosa más rápida.\"\"\"\n",
    "    \n",
    "    df=datos[['timestamp', 'estado']]\n",
    "\n",
    "    #agrego nueva columna para la resta de los tiempos\n",
    "    df_2 = df.assign(tiempo_respuesta=0)\n",
    "\n",
    "\n",
    "    #restar timestamp y guardar resultado en teimpo_respuesta\n",
    "    df_2['tiempo_respuesta'] = df_2['timestamp'].diff()\n",
    "\n",
    "    #busco los indices de las filas que no son una respuesta correcta\n",
    "    indices=df_2[df_2['estado'] != 'ok'].index\n",
    "\n",
    "    #elimino las filas de los indices encontrados\n",
    "    df_ok=df_2.drop(indices)\n",
    "\n",
    "    #busco el minimo en la columna tiempo_respuesta\n",
    "    df_min=df_ok['tiempo_respuesta'].min()\n",
    "    print(f'minimo:{df_min}')\n"
   ]
  },
  {
   "cell_type": "code",
   "execution_count": 4,
   "id": "a97107a3",
   "metadata": {},
   "outputs": [
    {
     "name": "stdout",
     "output_type": "stream",
     "text": [
      "minimo:3.0\n"
     ]
    }
   ],
   "source": [
    "exitosa_mas_rapida()"
   ]
  },
  {
   "cell_type": "code",
   "execution_count": null,
   "id": "98c33405",
   "metadata": {},
   "outputs": [],
   "source": []
  },
  {
   "cell_type": "code",
   "execution_count": null,
   "id": "6a6f5c35",
   "metadata": {},
   "outputs": [],
   "source": []
  }
 ],
 "metadata": {
  "kernelspec": {
   "display_name": "Python 3 (ipykernel)",
   "language": "python",
   "name": "python3"
  },
  "language_info": {
   "codemirror_mode": {
    "name": "ipython",
    "version": 3
   },
   "file_extension": ".py",
   "mimetype": "text/x-python",
   "name": "python",
   "nbconvert_exporter": "python",
   "pygments_lexer": "ipython3",
   "version": "3.10.2"
  },
  "vscode": {
   "interpreter": {
    "hash": "7905dc03008d3af5b188bb6d805f662f7b3fab4d9a8d33d0ae8dd071d938bfa7"
   }
  }
 },
 "nbformat": 4,
 "nbformat_minor": 5
}
